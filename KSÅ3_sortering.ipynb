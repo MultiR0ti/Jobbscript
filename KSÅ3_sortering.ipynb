{
 "cells": [
  {
   "cell_type": "code",
   "execution_count": 105,
   "id": "59f0dcb4",
   "metadata": {},
   "outputs": [],
   "source": [
    "import arcpy\n"
   ]
  },
  {
   "cell_type": "code",
   "execution_count": 106,
   "id": "871a836c",
   "metadata": {},
   "outputs": [
    {
     "name": "stdout",
     "output_type": "stream",
     "text": [
      "L220Planlagte_GrUS_GoodToHave\n"
     ]
    }
   ],
   "source": [
    "#fc_in = r'\\\\nsv2-nasuni-02\\fredrikstad\\Prosjekt\\O10245\\10245026-01\\10245026-01-03_ARBEIDSOMRAADE\\21_fagomraade\\11_Geoteknikk\\10245026-11-ARCGIS\\Fv.118 Ny Sarpsbru_Alt1.gdb\\Tilbudsgrunnlag_GRUS'\n",
    "# BLÅ:\n",
    "arcpy.env.workspace = r'https://cloudgis.multiconsult.no/server/rest/services/Hosted/Planlagte_GrUS_GoodToHave/FeatureServer'\n",
    "# RØD:\n",
    "#arcpy.env.workspace = r'https://cloudgis.multiconsult.no/server/rest/services/Hosted/Forslag_borprogram_KSA3/FeatureServer'\n",
    "\n",
    "fc_in = arcpy.ListFeatureClasses()[0]\n",
    "\n",
    "#fc_in = r'\\\\nsv2-nasuni-01\\Prosjekt\\T10245\\10245417-T\\10245417-T-03 ARBEIDSOMRAADE\\10245417-T TVF\\10245417-T-05 MODELLER\\10245417-T-03 KSÅ3 Furnesbakken - Stange\\mal_rig_01.gdb\\Planlagte_GrUS'\n",
    "\n",
    "print(fc_in)"
   ]
  },
  {
   "cell_type": "code",
   "execution_count": 107,
   "id": "eceee733",
   "metadata": {},
   "outputs": [],
   "source": [
    "fields = [field.name for field in arcpy.ListFields(fc_in)]"
   ]
  },
  {
   "cell_type": "code",
   "execution_count": 108,
   "id": "eb88aa92",
   "metadata": {
    "scrolled": true
   },
   "outputs": [
    {
     "data": {
      "text/plain": [
       "['objectid',\n",
       " 'oppdrag_num',\n",
       " 'bor_num',\n",
       " 'bore_type',\n",
       " 'y_n_lat',\n",
       " 'x_e_long',\n",
       " 'z_elev',\n",
       " 'proveserie',\n",
       " 'proveserie_type',\n",
       " 'pz_poretrykk',\n",
       " 'pz_poretrykk_type',\n",
       " 'cpt_trykk',\n",
       " 'vingeboring',\n",
       " 'dybdeintervall',\n",
       " 'notater',\n",
       " 'globalid',\n",
       " 'kof_code',\n",
       " 'esrignss_positionsourcetype',\n",
       " 'esrignss_receiver',\n",
       " 'esrignss_latitude',\n",
       " 'esrignss_longitude',\n",
       " 'esrignss_altitude',\n",
       " 'esrignss_h_rms',\n",
       " 'esrignss_v_rms',\n",
       " 'esrignss_fixdatetime',\n",
       " 'esrignss_fixtype',\n",
       " 'esrignss_correctionage',\n",
       " 'esrignss_stationid',\n",
       " 'esrignss_numsats',\n",
       " 'esrignss_pdop',\n",
       " 'esrignss_hdop',\n",
       " 'esrignss_vdop',\n",
       " 'esrignss_direction',\n",
       " 'esrignss_speed',\n",
       " 'esrisnsr_azimuth',\n",
       " 'esrignss_avg_h_rms',\n",
       " 'esrignss_avg_v_rms',\n",
       " 'esrignss_avg_positions',\n",
       " 'esrignss_h_stddev',\n",
       " 'created_user',\n",
       " 'created_date',\n",
       " 'last_edited_user',\n",
       " 'last_edited_date',\n",
       " 'shape']"
      ]
     },
     "execution_count": 108,
     "metadata": {},
     "output_type": "execute_result"
    }
   ],
   "source": [
    "fields"
   ]
  },
  {
   "cell_type": "code",
   "execution_count": 109,
   "id": "cb86b801",
   "metadata": {},
   "outputs": [],
   "source": [
    "#sc_fields = ['OBJECTID','X_E_Long','bore_type']\n",
    "sc_fields = ['OBJECTID','y_n_lat', 'bore_type']"
   ]
  },
  {
   "cell_type": "code",
   "execution_count": 110,
   "id": "34165d6a",
   "metadata": {},
   "outputs": [],
   "source": [
    "y_sort = sorted([[r[0], r[1], r[2]] for r in arcpy.da.SearchCursor(fc_in, sc_fields)], key=lambda y: y[1], reverse=False)"
   ]
  },
  {
   "cell_type": "code",
   "execution_count": 111,
   "id": "9a57e297",
   "metadata": {},
   "outputs": [],
   "source": [
    "#x_sort = sorted([[r[0], r[1], r[2]] for r in arcpy.da.SearchCursor(fc_in, sc_fields)], key=lambda x: x[1])"
   ]
  },
  {
   "cell_type": "code",
   "execution_count": 112,
   "id": "5397a97c",
   "metadata": {},
   "outputs": [],
   "source": [
    "#xy_sort =  sorted([[r[0], r[1], r[2]] for r in arcpy.da.SearchCursor(fc_in, sc_fields)], key=lambda item: (item[0], item[1]))"
   ]
  },
  {
   "cell_type": "code",
   "execution_count": 113,
   "id": "c0a23edb",
   "metadata": {},
   "outputs": [
    {
     "data": {
      "text/plain": [
       "[[51, 6721412.11689904, 'Totalsondering'],\n",
       " [54, 6721503.43552058, 'Totalsondering'],\n",
       " [52, 6721524.02013141, 'Totalsondering'],\n",
       " [60, 6721524.02013141, 'Prøveserie'],\n",
       " [50, 6721579.94153783, 'Totalsondering'],\n",
       " [55, 6721579.94153783, 'CPT/Trykksondering'],\n",
       " [11, 6721717.94217285, 'Totalsondering'],\n",
       " [14, 6721998.46227818, 'Totalsondering'],\n",
       " [12, 6722016.94807792, 'Totalsondering'],\n",
       " [13, 6722022.48425305, 'Totalsondering'],\n",
       " [15, 6723124.2601966, 'Totalsondering'],\n",
       " [16, 6723445.21708394, 'Totalsondering'],\n",
       " [17, 6724130.65125183, 'Totalsondering'],\n",
       " [18, 6724176.42621936, 'Totalsondering'],\n",
       " [19, 6724814.59127822, 'Totalsondering'],\n",
       " [20, 6725278.85696851, 'Totalsondering'],\n",
       " [21, 6725553.38830948, 'Totalsondering'],\n",
       " [23, 6725629.72441064, 'Totalsondering'],\n",
       " [59, 6725672.57390716, 'Totalsondering'],\n",
       " [24, 6725703.08799782, 'Totalsondering'],\n",
       " [25, 6725820.33912653, 'Totalsondering'],\n",
       " [26, 6725906.39022835, 'Totalsondering'],\n",
       " [27, 6725942.99949154, 'Totalsondering'],\n",
       " [28, 6725976.52384269, 'Totalsondering'],\n",
       " [30, 6726320.56004982, 'Prøveserie'],\n",
       " [31, 6726542.65333507, 'Totalsondering'],\n",
       " [32, 6726702.3735868, 'Totalsondering'],\n",
       " [34, 6726903.79484638, 'Totalsondering'],\n",
       " [36, 6727682.22037957, 'Totalsondering'],\n",
       " [37, 6727784.81078149, 'Totalsondering'],\n",
       " [38, 6727824.83696424, 'Totalsondering'],\n",
       " [39, 6727869.57092129, 'Totalsondering'],\n",
       " [40, 6728318.48082376, 'Totalsondering'],\n",
       " [41, 6728715.2351707, 'Totalsondering'],\n",
       " [43, 6729533.60878808, 'Totalsondering'],\n",
       " [44, 6729735.00530243, 'Totalsondering'],\n",
       " [7, 6730973.21282042, 'Totalsondering'],\n",
       " [5, 6731100.27502616, 'Totalsondering'],\n",
       " [4, 6731127.53707717, 'Totalsondering']]"
      ]
     },
     "execution_count": 113,
     "metadata": {},
     "output_type": "execute_result"
    }
   ],
   "source": [
    "y_sort"
   ]
  },
  {
   "cell_type": "code",
   "execution_count": 114,
   "id": "8e233343",
   "metadata": {},
   "outputs": [],
   "source": [
    "for item in y_sort.copy():\n",
    "    if item[2] != 'Totalsondering':\n",
    "        y_sort.remove(item)"
   ]
  },
  {
   "cell_type": "code",
   "execution_count": 115,
   "id": "608f8587",
   "metadata": {},
   "outputs": [
    {
     "data": {
      "text/plain": [
       "[[51, 6721412.11689904, 'Totalsondering'],\n",
       " [54, 6721503.43552058, 'Totalsondering'],\n",
       " [52, 6721524.02013141, 'Totalsondering'],\n",
       " [50, 6721579.94153783, 'Totalsondering'],\n",
       " [11, 6721717.94217285, 'Totalsondering'],\n",
       " [14, 6721998.46227818, 'Totalsondering'],\n",
       " [12, 6722016.94807792, 'Totalsondering'],\n",
       " [13, 6722022.48425305, 'Totalsondering'],\n",
       " [15, 6723124.2601966, 'Totalsondering'],\n",
       " [16, 6723445.21708394, 'Totalsondering'],\n",
       " [17, 6724130.65125183, 'Totalsondering'],\n",
       " [18, 6724176.42621936, 'Totalsondering'],\n",
       " [19, 6724814.59127822, 'Totalsondering'],\n",
       " [20, 6725278.85696851, 'Totalsondering'],\n",
       " [21, 6725553.38830948, 'Totalsondering'],\n",
       " [23, 6725629.72441064, 'Totalsondering'],\n",
       " [59, 6725672.57390716, 'Totalsondering'],\n",
       " [24, 6725703.08799782, 'Totalsondering'],\n",
       " [25, 6725820.33912653, 'Totalsondering'],\n",
       " [26, 6725906.39022835, 'Totalsondering'],\n",
       " [27, 6725942.99949154, 'Totalsondering'],\n",
       " [28, 6725976.52384269, 'Totalsondering'],\n",
       " [31, 6726542.65333507, 'Totalsondering'],\n",
       " [32, 6726702.3735868, 'Totalsondering'],\n",
       " [34, 6726903.79484638, 'Totalsondering'],\n",
       " [36, 6727682.22037957, 'Totalsondering'],\n",
       " [37, 6727784.81078149, 'Totalsondering'],\n",
       " [38, 6727824.83696424, 'Totalsondering'],\n",
       " [39, 6727869.57092129, 'Totalsondering'],\n",
       " [40, 6728318.48082376, 'Totalsondering'],\n",
       " [41, 6728715.2351707, 'Totalsondering'],\n",
       " [43, 6729533.60878808, 'Totalsondering'],\n",
       " [44, 6729735.00530243, 'Totalsondering'],\n",
       " [7, 6730973.21282042, 'Totalsondering'],\n",
       " [5, 6731100.27502616, 'Totalsondering'],\n",
       " [4, 6731127.53707717, 'Totalsondering']]"
      ]
     },
     "execution_count": 115,
     "metadata": {},
     "output_type": "execute_result"
    }
   ],
   "source": [
    "y_sort"
   ]
  },
  {
   "cell_type": "code",
   "execution_count": 116,
   "id": "6933c89f",
   "metadata": {},
   "outputs": [],
   "source": [
    "# Object ID is key\n",
    "def sort_dict(item_list):\n",
    "    d = {}\n",
    "    for i,v in enumerate(item_list, start=1):\n",
    "        d[v[0]]=i\n",
    "    return d"
   ]
  },
  {
   "cell_type": "code",
   "execution_count": 117,
   "id": "2cd40a9c",
   "metadata": {},
   "outputs": [],
   "source": [
    "s_y = sort_dict(y_sort)"
   ]
  },
  {
   "cell_type": "code",
   "execution_count": 118,
   "id": "9b41f303",
   "metadata": {},
   "outputs": [
    {
     "data": {
      "text/plain": [
       "{51: 1,\n",
       " 54: 2,\n",
       " 52: 3,\n",
       " 50: 4,\n",
       " 11: 5,\n",
       " 14: 6,\n",
       " 12: 7,\n",
       " 13: 8,\n",
       " 15: 9,\n",
       " 16: 10,\n",
       " 17: 11,\n",
       " 18: 12,\n",
       " 19: 13,\n",
       " 20: 14,\n",
       " 21: 15,\n",
       " 23: 16,\n",
       " 59: 17,\n",
       " 24: 18,\n",
       " 25: 19,\n",
       " 26: 20,\n",
       " 27: 21,\n",
       " 28: 22,\n",
       " 31: 23,\n",
       " 32: 24,\n",
       " 34: 25,\n",
       " 36: 26,\n",
       " 37: 27,\n",
       " 38: 28,\n",
       " 39: 29,\n",
       " 40: 30,\n",
       " 41: 31,\n",
       " 43: 32,\n",
       " 44: 33,\n",
       " 7: 34,\n",
       " 5: 35,\n",
       " 4: 36}"
      ]
     },
     "execution_count": 118,
     "metadata": {},
     "output_type": "execute_result"
    }
   ],
   "source": [
    "s_y"
   ]
  },
  {
   "cell_type": "code",
   "execution_count": 119,
   "id": "3ef633f6",
   "metadata": {},
   "outputs": [],
   "source": [
    "uc_fields = ['OBJECTID', 'bor_num', 'bore_type']"
   ]
  },
  {
   "cell_type": "code",
   "execution_count": 120,
   "id": "7c879986",
   "metadata": {},
   "outputs": [
    {
     "name": "stdout",
     "output_type": "stream",
     "text": [
      "36\n",
      "35\n",
      "34\n",
      "5\n",
      "7\n",
      "8\n",
      "6\n",
      "9\n",
      "10\n",
      "11\n",
      "12\n",
      "13\n",
      "14\n",
      "15\n",
      "16\n",
      "18\n",
      "19\n",
      "20\n",
      "21\n",
      "22\n",
      "23\n",
      "24\n",
      "25\n",
      "26\n",
      "27\n",
      "28\n",
      "29\n",
      "30\n",
      "31\n",
      "32\n",
      "33\n",
      "4\n",
      "1\n",
      "3\n",
      "2\n",
      "17\n"
     ]
    }
   ],
   "source": [
    "with arcpy.da.SearchCursor(fc_in, sc_fields) as sc:\n",
    "  for row in sc:\n",
    "    if(row[2]) == 'Totalsondering':\n",
    "      print(s_y[row[0]])\n",
    "        #print(s_y[row[2]])\n",
    "        #print(s_y[row[2]],s_foo[row[2]])\n",
    "    "
   ]
  },
  {
   "cell_type": "markdown",
   "id": "77c30965",
   "metadata": {},
   "source": [
    " "
   ]
  },
  {
   "cell_type": "code",
   "execution_count": 121,
   "id": "5c8fd5a2",
   "metadata": {},
   "outputs": [
    {
     "name": "stdout",
     "output_type": "stream",
     "text": [
      "[4, 'B-37', 'Totalsondering']\n",
      "[5, 'B-36', 'Totalsondering']\n",
      "[7, 'B-35', 'Totalsondering']\n",
      "[11, 'B-5', 'Totalsondering']\n",
      "[12, 'B-7', 'Totalsondering']\n",
      "[13, 'B-8', 'Totalsondering']\n",
      "[14, 'B-6', 'Totalsondering']\n",
      "[15, 'B-9', 'Totalsondering']\n",
      "[16, 'B-10', 'Totalsondering']\n",
      "[17, 'B-11', 'Totalsondering']\n",
      "[18, 'B-12', 'Totalsondering']\n",
      "[19, 'B-13', 'Totalsondering']\n",
      "[20, 'B-14', 'Totalsondering']\n",
      "[21, 'B-15', 'Totalsondering']\n",
      "[23, 'B-16', 'Totalsondering']\n",
      "[24, 'B-18', 'Totalsondering']\n",
      "[25, 'B-19', 'Totalsondering']\n",
      "[26, 'B-20', 'Totalsondering']\n",
      "[27, 'B-21', 'Totalsondering']\n",
      "[28, 'B-22', 'Totalsondering']\n",
      "[30, '', 'Prøveserie']\n",
      "[31, 'B-23', 'Totalsondering']\n",
      "[32, 'B-25', 'Totalsondering']\n",
      "[34, 'B-26', 'Totalsondering']\n",
      "[36, 'B-27', 'Totalsondering']\n",
      "[37, 'B-28', 'Totalsondering']\n",
      "[38, 'B-29', 'Totalsondering']\n",
      "[39, 'B-30', 'Totalsondering']\n",
      "[40, 'B-31', 'Totalsondering']\n",
      "[41, 'B-32', 'Totalsondering']\n",
      "[43, 'B-33', 'Totalsondering']\n",
      "[44, 'B-34', 'Totalsondering']\n",
      "[50, 'B-4', 'Totalsondering']\n",
      "[51, 'B-1', 'Totalsondering']\n",
      "[52, 'B-3', 'Totalsondering']\n",
      "[54, 'B-2', 'Totalsondering']\n",
      "[55, '', 'CPT/Trykksondering']\n",
      "[59, 'B-17', 'Totalsondering']\n",
      "[60, None, 'Prøveserie']\n"
     ]
    }
   ],
   "source": [
    "with arcpy.da.UpdateCursor(fc_in, uc_fields) as uc:\n",
    "    for row in uc:\n",
    "        print(row)\n",
    "        row[1] = ''\n",
    "        uc.updateRow(row)"
   ]
  },
  {
   "cell_type": "code",
   "execution_count": 122,
   "id": "b8c17ff9",
   "metadata": {
    "scrolled": true
   },
   "outputs": [
    {
     "name": "stdout",
     "output_type": "stream",
     "text": [
      "[4, 'B-36', 'Totalsondering']\n",
      "[5, 'B-35', 'Totalsondering']\n",
      "[7, 'B-34', 'Totalsondering']\n",
      "[11, 'B-5', 'Totalsondering']\n",
      "[12, 'B-7', 'Totalsondering']\n",
      "[13, 'B-8', 'Totalsondering']\n",
      "[14, 'B-6', 'Totalsondering']\n",
      "[15, 'B-9', 'Totalsondering']\n",
      "[16, 'B-10', 'Totalsondering']\n",
      "[17, 'B-11', 'Totalsondering']\n",
      "[18, 'B-12', 'Totalsondering']\n",
      "[19, 'B-13', 'Totalsondering']\n",
      "[20, 'B-14', 'Totalsondering']\n",
      "[21, 'B-15', 'Totalsondering']\n",
      "[23, 'B-16', 'Totalsondering']\n",
      "[24, 'B-18', 'Totalsondering']\n",
      "[25, 'B-19', 'Totalsondering']\n",
      "[26, 'B-20', 'Totalsondering']\n",
      "[27, 'B-21', 'Totalsondering']\n",
      "[28, 'B-22', 'Totalsondering']\n",
      "[30, '', 'Prøveserie']\n",
      "[31, 'B-23', 'Totalsondering']\n",
      "[32, 'B-24', 'Totalsondering']\n",
      "[34, 'B-25', 'Totalsondering']\n",
      "[36, 'B-26', 'Totalsondering']\n",
      "[37, 'B-27', 'Totalsondering']\n",
      "[38, 'B-28', 'Totalsondering']\n",
      "[39, 'B-29', 'Totalsondering']\n",
      "[40, 'B-30', 'Totalsondering']\n",
      "[41, 'B-31', 'Totalsondering']\n",
      "[43, 'B-32', 'Totalsondering']\n",
      "[44, 'B-33', 'Totalsondering']\n",
      "[50, 'B-4', 'Totalsondering']\n",
      "[51, 'B-1', 'Totalsondering']\n",
      "[52, 'B-3', 'Totalsondering']\n",
      "[54, 'B-2', 'Totalsondering']\n",
      "[55, '', 'CPT/Trykksondering']\n",
      "[59, 'B-17', 'Totalsondering']\n",
      "[60, '', 'Prøveserie']\n"
     ]
    }
   ],
   "source": [
    "#sort on y\n",
    "with arcpy.da.UpdateCursor(fc_in, uc_fields) as uc:\n",
    "    for row in uc:\n",
    "        if row[2] == 'Totalsondering':\n",
    "            row[1] = 'B-' + str(s_y[row[0]])\n",
    "            uc.updateRow(row)\n",
    "\n",
    "        else:    \n",
    "            row[1] = ''\n",
    "            uc.updateRow(row)\n",
    "        print(row)"
   ]
  },
  {
   "cell_type": "code",
   "execution_count": 123,
   "id": "645fa486",
   "metadata": {},
   "outputs": [],
   "source": [
    "#print(s_xy)"
   ]
  },
  {
   "cell_type": "code",
   "execution_count": null,
   "id": "eba5925c",
   "metadata": {},
   "outputs": [],
   "source": []
  },
  {
   "cell_type": "code",
   "execution_count": null,
   "id": "62de1600",
   "metadata": {},
   "outputs": [],
   "source": []
  }
 ],
 "metadata": {
  "kernelspec": {
   "display_name": "Python 3.7.11",
   "language": "python",
   "name": "python3"
  },
  "language_info": {
   "codemirror_mode": {
    "name": "ipython",
    "version": 3
   },
   "file_extension": ".py",
   "mimetype": "text/x-python",
   "name": "python",
   "nbconvert_exporter": "python",
   "pygments_lexer": "ipython3"
  },
  "vscode": {
   "interpreter": {
    "hash": "8b71b3bba8e52f13d38cdf92ed244d6412f1bd53b3251c8d8752876390ab78d0"
   }
  }
 },
 "nbformat": 4,
 "nbformat_minor": 5
}
