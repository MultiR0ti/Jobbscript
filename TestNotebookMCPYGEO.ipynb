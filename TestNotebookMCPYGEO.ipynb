{
 "cells": [
  {
   "cell_type": "code",
   "execution_count": 2,
   "metadata": {},
   "outputs": [
    {
     "ename": "ModuleNotFoundError",
     "evalue": "No module named 'mcpygeo'",
     "output_type": "error",
     "traceback": [
      "\u001b[1;31m---------------------------------------------------------------------------\u001b[0m",
      "\u001b[1;31mModuleNotFoundError\u001b[0m                       Traceback (most recent call last)",
      "Cell \u001b[1;32mIn[2], line 1\u001b[0m\n\u001b[1;32m----> 1\u001b[0m \u001b[39mimport\u001b[39;00m \u001b[39mmcpygeo\u001b[39;00m\n\u001b[0;32m      3\u001b[0m cptcsv \u001b[39m=\u001b[39m \u001b[39mr\u001b[39m\u001b[39m'\u001b[39m\u001b[39mC:/Users/jdr/csvtestfiler/Input_CPT.csv\u001b[39m\u001b[39m'\u001b[39m\n\u001b[0;32m      4\u001b[0m geomcsv \u001b[39m=\u001b[39m \u001b[39mr\u001b[39m\u001b[39m'\u001b[39m\u001b[39mC:/Users/jdr/csvtestfiler/Input_Geometry.csv\u001b[39m\u001b[39m'\u001b[39m\n",
      "\u001b[1;31mModuleNotFoundError\u001b[0m: No module named 'mcpygeo'"
     ]
    }
   ],
   "source": [
    "import mcpygeo\n",
    "\n",
    "cptcsv = r'C:/Users/jdr/csvtestfiler/Input_CPT.csv'\n",
    "geomcsv = r'C:/Users/jdr/csvtestfiler/Input_Geometry.csv'\n",
    "soilcsv =  r'C:/Users/jdr/csvtestfiler/Input_Soil_Profile.csv'\n",
    "\n",
    "layer_data = mcpygeo.soil.layers_from_csv(soilcsv)\n",
    "cpt_data = mcpygeo.soil.cpt_from_csv(cptcsv)\n",
    "geom_data = mcpygeo.pile_geom.pile_geometry_from_csv(geomcsv)\n",
    "\n",
    "soil_data = ({'cpt': cpt_data, 'layers': layer_data})\n",
    "\n",
    "soil = mcpygeo.soil.Soil(soil_data)\n",
    "\n",
    "depths, layers = mcpygeo.helper_functions._generate_depths_and_layers(depth=25.0, depth_incr=1.0, soil=soil)\n",
    "print(depths)\n",
    "\n",
    "print(mcpygeo.helper_functions._calculate_effective_stress(depths, layers=layers))\n",
    "\n",
    "results = mcpygeo.pile_capacity.ngi99(geom_data, soil_data, depth=25, Material = 's')\n"
   ]
  }
 ],
 "metadata": {
  "kernelspec": {
   "display_name": "venv",
   "language": "python",
   "name": "python3"
  },
  "language_info": {
   "codemirror_mode": {
    "name": "ipython",
    "version": 3
   },
   "file_extension": ".py",
   "mimetype": "text/x-python",
   "name": "python",
   "nbconvert_exporter": "python",
   "pygments_lexer": "ipython3",
   "version": "3.10.8"
  },
  "orig_nbformat": 4,
  "vscode": {
   "interpreter": {
    "hash": "844c687be40f67efb610c968c2b0ca6a28349b1ee8c2de0198a58d7e55a65c3f"
   }
  }
 },
 "nbformat": 4,
 "nbformat_minor": 2
}
