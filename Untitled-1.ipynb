{
 "cells": [
  {
   "cell_type": "code",
   "execution_count": 1,
   "metadata": {},
   "outputs": [
    {
     "name": "stdout",
     "output_type": "stream",
     "text": [
      "[0.0, 1.0, 2.0, 3.0, 3.0, 4.0, 4.0, 5.0, 6.0, 7.0, 7.0, 8.0, 9.0, 10.0, 10.0, 11.0, 11.0, 12.0, 13.0, 13.0, 14.0, 15.0, 16.0, 16.0, 17.0, 18.0, 19.0, 20.0, 21.0, 22.0, 23.0, 24.0, 25.0]\n",
      "[0.0, 10.0, 20.0, 30.0, 30.0, 40.3, 40.3, 50.599999999999994, 60.900000000000006, 71.2, 71.2, 81.9, 92.60000000000001, 103.30000000000001, 103.30000000000001, 114.30000000000001, 114.30000000000001, 125.30000000000001, 136.3, 136.3, 147.60000000000002, 158.90000000000003, 170.20000000000005, 170.20000000000005, 181.5, 192.8, 204.10000000000002, 215.40000000000003, 226.70000000000005, 238.00000000000006, 249.30000000000007, 260.6000000000001, 271.9]\n"
     ]
    },
    {
     "name": "stderr",
     "output_type": "stream",
     "text": [
      "c:\\Users\\jdr\\Documents\\MyGitProjects\\mcpygeo\\mcpygeo\\mcpygeo\\pile_capacity.py:314: RuntimeWarning: invalid value encountered in double_scalars\n",
      "  D_r.append(0.4 * math.log(qt/(22 * math.pow(eff_stress[i_depth]*refpressure, 0.5))))\n"
     ]
    },
    {
     "ename": "IndexError",
     "evalue": "list index out of range",
     "output_type": "error",
     "traceback": [
      "\u001b[1;31m---------------------------------------------------------------------------\u001b[0m",
      "\u001b[1;31mIndexError\u001b[0m                                Traceback (most recent call last)",
      "\u001b[1;32m<ipython-input-1-027065fcc6f7>\u001b[0m in \u001b[0;36m<module>\u001b[1;34m\u001b[0m\n\u001b[0;32m     18\u001b[0m \u001b[0mprint\u001b[0m\u001b[1;33m(\u001b[0m\u001b[0mmcpygeo\u001b[0m\u001b[1;33m.\u001b[0m\u001b[0mhelper_functions\u001b[0m\u001b[1;33m.\u001b[0m\u001b[0m_calculate_effective_stress\u001b[0m\u001b[1;33m(\u001b[0m\u001b[0mdepths\u001b[0m\u001b[1;33m,\u001b[0m \u001b[0mlayers\u001b[0m\u001b[1;33m=\u001b[0m\u001b[0mlayers\u001b[0m\u001b[1;33m)\u001b[0m\u001b[1;33m)\u001b[0m\u001b[1;33m\u001b[0m\u001b[1;33m\u001b[0m\u001b[0m\n\u001b[0;32m     19\u001b[0m \u001b[1;33m\u001b[0m\u001b[0m\n\u001b[1;32m---> 20\u001b[1;33m \u001b[0mresults\u001b[0m \u001b[1;33m=\u001b[0m \u001b[0mmcpygeo\u001b[0m\u001b[1;33m.\u001b[0m\u001b[0mpile_capacity\u001b[0m\u001b[1;33m.\u001b[0m\u001b[0mngi99\u001b[0m\u001b[1;33m(\u001b[0m\u001b[0mgeom_data\u001b[0m\u001b[1;33m,\u001b[0m \u001b[0msoil_data\u001b[0m\u001b[1;33m,\u001b[0m \u001b[0mdepth\u001b[0m\u001b[1;33m=\u001b[0m\u001b[1;36m25\u001b[0m\u001b[1;33m,\u001b[0m \u001b[0mMaterial\u001b[0m \u001b[1;33m=\u001b[0m \u001b[1;34m's'\u001b[0m\u001b[1;33m)\u001b[0m\u001b[1;33m\u001b[0m\u001b[1;33m\u001b[0m\u001b[0m\n\u001b[0m",
      "\u001b[1;32mc:\\Users\\jdr\\Documents\\MyGitProjects\\mcpygeo\\mcpygeo\\mcpygeo\\pile_capacity.py\u001b[0m in \u001b[0;36mngi99\u001b[1;34m(***failed resolving arguments***)\u001b[0m\n\u001b[0;32m    327\u001b[0m                 \u001b[1;31m#JDR\u001b[0m\u001b[1;33m\u001b[0m\u001b[1;33m\u001b[0m\u001b[1;33m\u001b[0m\u001b[0m\n\u001b[0;32m    328\u001b[0m             \u001b[1;32melse\u001b[0m\u001b[1;33m:\u001b[0m\u001b[1;33m\u001b[0m\u001b[1;33m\u001b[0m\u001b[0m\n\u001b[1;32m--> 329\u001b[1;33m                 \u001b[0mplr\u001b[0m \u001b[1;33m=\u001b[0m \u001b[0mplr_list\u001b[0m\u001b[1;33m[\u001b[0m\u001b[0mi\u001b[0m\u001b[1;33m]\u001b[0m\u001b[1;33m\u001b[0m\u001b[1;33m\u001b[0m\u001b[0m\n\u001b[0m\u001b[0;32m    330\u001b[0m                 \u001b[0mqt\u001b[0m \u001b[1;33m=\u001b[0m \u001b[0mqt_list\u001b[0m\u001b[1;33m[\u001b[0m\u001b[0mi\u001b[0m\u001b[1;33m]\u001b[0m\u001b[1;33m\u001b[0m\u001b[1;33m\u001b[0m\u001b[0m\n\u001b[0;32m    331\u001b[0m                 \u001b[0mdepthm\u001b[0m \u001b[1;33m=\u001b[0m \u001b[0mdepths\u001b[0m\u001b[1;33m[\u001b[0m\u001b[0mi\u001b[0m\u001b[1;33m]\u001b[0m \u001b[1;31m#depthm er dybden\u001b[0m\u001b[1;33m\u001b[0m\u001b[1;33m\u001b[0m\u001b[0m\n",
      "\u001b[1;31mIndexError\u001b[0m: list index out of range"
     ]
    }
   ],
   "source": [
    "import mcpygeo\n",
    "\n",
    "cptcsv = r'C:/Users/jdr/csvtestfiler/Input_CPT.csv'\n",
    "geomcsv = r'C:/Users/jdr/csvtestfiler/Input_Geometry.csv'\n",
    "soilcsv =  r'C:/Users/jdr/csvtestfiler/Input_Soil_Profile.csv'\n",
    "\n",
    "layer_data = mcpygeo.soil.layers_from_csv(soilcsv)\n",
    "cpt_data = mcpygeo.soil.cpt_from_csv(cptcsv)\n",
    "geom_data = mcpygeo.pile_geom.pile_geometry_from_csv(geomcsv)\n",
    "\n",
    "soil_data = ({'cpt': cpt_data, 'layers': layer_data})\n",
    "\n",
    "soil = mcpygeo.soil.Soil(soil_data)\n",
    "\n",
    "depths, layers = mcpygeo.helper_functions._generate_depths_and_layers(depth=25.0, depth_incr=1.0, soil=soil)\n",
    "print(depths)\n",
    "\n",
    "print(mcpygeo.helper_functions._calculate_effective_stress(depths, layers=layers))\n",
    "t\n",
    "results = mcpygeo.pile_capacity.ngi99(geom_data, soil_data, depth=25, Material = 's')\n"
   ]
  }
 ],
 "metadata": {
  "kernelspec": {
   "display_name": "Python 3",
   "language": "python",
   "name": "python3"
  },
  "language_info": {
   "codemirror_mode": {
    "name": "ipython",
    "version": 3
   },
   "file_extension": ".py",
   "mimetype": "text/x-python",
   "name": "python",
   "nbconvert_exporter": "python",
   "pygments_lexer": "ipython3",
   "version": "3.7.11"
  },
  "orig_nbformat": 4,
  "vscode": {
   "interpreter": {
    "hash": "8b71b3bba8e52f13d38cdf92ed244d6412f1bd53b3251c8d8752876390ab78d0"
   }
  }
 },
 "nbformat": 4,
 "nbformat_minor": 2
}
