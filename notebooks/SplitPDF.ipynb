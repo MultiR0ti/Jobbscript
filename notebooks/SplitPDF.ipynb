{
 "cells": [
  {
   "cell_type": "code",
   "execution_count": 3,
   "metadata": {},
   "outputs": [],
   "source": [
    "from PyPDF2 import PdfWriter, PdfReader\n",
    "\n",
    "pdffolder = r'\\\\nsv2-nasuni-01\\Prosjekt\\O10244\\10244558-01\\10244558-01-03 ARBEIDSOMRAADE\\10244558-01 RIG\\10244558-01-10 GEOSUITE\\GEOSUITE tidligere grunnundersøkelser\\_Samlet\\AUTOGRAF.RIT\\\\'\n",
    "pdf = r'\\82-5_PR.pdf'\n",
    "pdfname = pdf.split('.')[0]\n",
    "\n",
    "inputpdf = PdfReader(open(pdffolder+pdf, \"rb\"))\n",
    "\n",
    "for i in range(len(inputpdf.pages)):\n",
    "    output = PdfWriter()\n",
    "    output.add_page(inputpdf.pages[i])\n",
    "    with open(pdffolder+pdfname+\"%s.pdf\" % (i+1), \"wb\") as outputStream:\n",
    "        output.write(outputStream)\n",
    "\n",
    "\n"
   ]
  },
  {
   "cell_type": "code",
   "execution_count": 24,
   "metadata": {},
   "outputs": [
    {
     "name": "stdout",
     "output_type": "stream",
     "text": [
      "1\n"
     ]
    },
    {
     "data": {
      "text/plain": [
       "1"
      ]
     },
     "execution_count": 24,
     "metadata": {},
     "output_type": "execute_result"
    }
   ],
   "source": [
    "from pathlib import Path\n",
    "pdffolder = r'\\\\nsv2-nasuni-01\\Prosjekt\\O10244\\10244558-01\\10244558-01-03 ARBEIDSOMRAADE\\10244558-01 RIG\\10244558-01-10 GEOSUITE\\GEOSUITE tidligere grunnundersøkelser\\_Samlet\\AUTOGRAF.RIT\\Test\\Test'\n",
    "\n",
    "def splitpdf(pdffolder):\n",
    "    path = Path(pdffolder)\n",
    "    l_pdfs = [f for f in path.glob('*PR.pdf')]\n",
    "    print(len(l_pdfs))\n",
    "    i0 = 1\n",
    "    for pdf0 in l_pdfs:\n",
    "        pdf = str(pdf0)\n",
    "        pdfname = pdf.split(\"\\\\\")[-1].split('.')[0]\n",
    "        inputpdf = PdfReader(open(pdf, \"rb\"))\n",
    "        for i in range(len(inputpdf.pages)):\n",
    "            output = PdfWriter()\n",
    "            output.add_page(inputpdf.pages[i])\n",
    "            with open(pdffolder+pdfname+\"%s.pdf\" % (i+1), \"wb\") as outputStream:\n",
    "                output.write(outputStream)\n",
    "            if i > i0:\n",
    "                i0 = i+1\n",
    "    return i0\n",
    "\n",
    "inx = splitpdf(pdffolder)\n",
    "inx"
   ]
  },
  {
   "cell_type": "code",
   "execution_count": null,
   "metadata": {},
   "outputs": [],
   "source": []
  }
 ],
 "metadata": {
  "kernelspec": {
   "display_name": "Python 3",
   "language": "python",
   "name": "python3"
  },
  "language_info": {
   "codemirror_mode": {
    "name": "ipython",
    "version": 3
   },
   "file_extension": ".py",
   "mimetype": "text/x-python",
   "name": "python",
   "nbconvert_exporter": "python",
   "pygments_lexer": "ipython3"
  },
  "orig_nbformat": 4,
  "vscode": {
   "interpreter": {
    "hash": "8b71b3bba8e52f13d38cdf92ed244d6412f1bd53b3251c8d8752876390ab78d0"
   }
  }
 },
 "nbformat": 4,
 "nbformat_minor": 2
}
