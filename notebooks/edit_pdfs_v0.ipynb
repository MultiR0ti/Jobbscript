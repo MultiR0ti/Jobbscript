{
 "cells": [
  {
   "cell_type": "code",
   "execution_count": 242,
   "metadata": {},
   "outputs": [],
   "source": [
    "from pathlib import Path\n",
    "import os\n",
    "import cv2\n",
    "import fitz\n",
    "from PIL import Image, ImageDraw, ImageFont\n",
    "from PyPDF2 import PdfMerger\n",
    "import pytesseract\n",
    "pytesseract.pytesseract.tesseract_cmd = (\n",
    "        r\"C:\\Users\\jdr\\AppData\\Local\\Programs\\Tesseract-OCR\\tesseract.exe\"\n",
    "    )"
   ]
  },
  {
   "cell_type": "code",
   "execution_count": 243,
   "metadata": {},
   "outputs": [],
   "source": [
    "def draw_white_rect(img_path: str):\n",
    "    img = cv2.imread(img_path)\n",
    " \n",
    "    # Specify the coordinates for the redaction\n",
    "    top_left_x = 1337 #4444\n",
    "    top_left_y = 2424 #8050\n",
    "    bottom_right_x = 1637 #5450\n",
    "    bottom_right_y = 2453 #8170\n",
    "    x, y, width, height = top_left_x, top_left_y, (bottom_right_x - top_left_x), (bottom_right_y - top_left_y)\n",
    "\n",
    "    # Create a white rectangle to cover the desired portion of the image\n",
    "    white = (255, 255, 255)\n",
    "    img[y:y + height, x:x + width] = white\n",
    "    cv2.imwrite(img_path, img)"
   ]
  },
  {
   "cell_type": "code",
   "execution_count": 244,
   "metadata": {},
   "outputs": [],
   "source": [
    "def draw_drawing_num(pngs_path: str):\n",
    "    '''Takes the name of the images,\n",
    "    sorts them and writes it in a formatted way in the tegningnummer section of the image.\n",
    "\n",
    "    Example:\n",
    "    First file in the dir named SB-1001.png will be named RIG-TEG-SB-1001-010\n",
    "    second file named SB-1002 will be named RIG-TEG-SB-1002-011 and so on.\n",
    "    '''\n",
    "    path = Path(pngs_path)\n",
    "    list_pngs = [f for f in path.glob('*.png')]\n",
    "    list_pngs.sort()\n",
    "    print(type(list_pngs))\n",
    "\n",
    "    for index, picture in enumerate(list_pngs):\n",
    "        img_path = os.path.join(pngs_path, picture.stem + '.png')\n",
    "        draw_white_rect(img_path)\n",
    "        image_name = img_path.split(\"\\\\\")[-1]\n",
    "        image = Image.open(img_path)\n",
    "        draw = ImageDraw.Draw(image)\n",
    "        font_dir = r'C:\\Users\\jdr\\OneDrive - Multiconsult\\Dokumenter\\Fonts\\isocpeur.ttf'\n",
    "        colorblack = 'black'\n",
    "        font = ImageFont.truetype(font_dir, size=35)\n",
    "        drawing_number = '010' #10 + index\n",
    "        text = \"RIG-TEG-\"+ image_name.replace('.png', '') + '-' + drawing_number #str(drawing_number).zfill(3)\n",
    "        #draw.text((4450, 8080), text, font=font, fill=colorblack)\n",
    "        draw.text((1337, 2424), text, font=font, fill=colorblack)\n",
    "        image.save(img_path)"
   ]
  },
  {
   "cell_type": "code",
   "execution_count": 245,
   "metadata": {},
   "outputs": [],
   "source": [
    "def find_bp_names_and_rename_imgs(img_folder: str):\n",
    "    '''Uses OCR to find the name of the boring to rename the image with that name.\n",
    "    With the font used in AutoCAD 7 is interpreted as / so logic is made to correct the name.\n",
    "    Made for borings named like: SB-1000.\n",
    "    If a boring is split in two pages, the second page will be named \"SB-X\" plus the index of the file. \n",
    "    '''\n",
    "    path = Path(img_folder)\n",
    "    list_pngs = [f for f in path.glob('*.png')]\n",
    "    bp_names = []\n",
    "\n",
    "    for i, picture in enumerate(list_pngs):\n",
    "        img_path = os.path.join(img_folder, picture.stem + '.png')\n",
    "        text = str(((pytesseract.image_to_string(Image.open(img_path)))))\n",
    "        text.strip()\n",
    "        bp_name = text.partition('\\n')[0].replace(' ', '')\n",
    "        fix_bp_name = bp_name.replace('/', '7')\n",
    "        print(fix_bp_name)\n",
    "        if 'SB' in fix_bp_name:\n",
    "            file_name = fix_bp_name[:-1] if len(fix_bp_name) > 7 else fix_bp_name\n",
    "            print('Justert til: ', file_name)\n",
    "        else:\n",
    "            file_name = 'SB-X' + str(i)\n",
    "        bp_pic_path = img_folder + '\\\\' + file_name + '.png'\n",
    "        os.rename(img_path, bp_pic_path)"
   ]
  },
  {
   "cell_type": "code",
   "execution_count": 246,
   "metadata": {},
   "outputs": [],
   "source": [
    "def pdf2img(pdf_path: str):\n",
    "    \"\"\"\n",
    "    pdf_path: path of a pdf file.\n",
    "    \n",
    "    Creates images from pages of a pdf file.\n",
    "    \"\"\"\n",
    "    #img_path = pdf_path + r'\\images'\n",
    "    #Path(img_path).mkdir(parents=True, exist_ok=True)  # create the 'images' folder if it doesn't exist\n",
    "    img_path = os.path.dirname(pdf_path) + r'\\images\\\\'\n",
    "    Path(img_path).mkdir(parents=True, exist_ok=True) \n",
    "    doc = fitz.open(pdf_path)\n",
    "    for index, page in enumerate(doc.pages()):\n",
    "        zoom = 3\n",
    "        zz = fitz.Matrix(zoom, zoom)\n",
    "        pix = page.get_pixmap(matrix=zz)\n",
    "        pix.save(img_path + str(index) + r'.png')"
   ]
  },
  {
   "cell_type": "code",
   "execution_count": 247,
   "metadata": {},
   "outputs": [],
   "source": [
    "# Open the image file\n",
    "def convert_images_to_pdf(img_folder: str, pdf_filename: str):\n",
    "    \"\"\"Converts pngs to pdf files.\n",
    "    Input: image folder, and name of the resulting pdf.¨\n",
    "    PDF will be named SB-XXXX_pdf_filname.pdf\n",
    "    \"\"\"\n",
    "    path = Path(img_folder)\n",
    "    list_pngs = [f for f in path.glob('*.png')]\n",
    "\n",
    "    for picture in list_pngs:\n",
    "        img_path = os.path.join(img_folder, picture.stem + '.png')\n",
    "        image = Image.open(img_path)\n",
    "        # Save the image as a PDF file\n",
    "        image.save(img_folder + '\\\\' + picture.stem + '_' + pdf_filename, \"PDF\")\n"
   ]
  },
  {
   "cell_type": "code",
   "execution_count": 248,
   "metadata": {},
   "outputs": [],
   "source": [
    "def merge_pdfs(pdf_folder: str):\n",
    "    \"\"\"Merges all pdfs in a folder.\n",
    "    Input: directory of pdf files to merge.\n",
    "    Resulting pdf is named Samlet.pdf\n",
    "    \"\"\" \n",
    "    path = Path(pdf_folder)\n",
    "    list_pdfs = [f for f in path.glob('*.pdf')]\n",
    "    \n",
    "    merger = PdfMerger()\n",
    "    \n",
    "    for pdf in list_pdfs:\n",
    "        merger.append(open(pdf, 'rb'))\n",
    "    \n",
    "    with open(pdf_folder + \"\\\\Samlet.pdf\", \"wb\") as fout:\n",
    "        merger.write(fout)"
   ]
  },
  {
   "cell_type": "code",
   "execution_count": 253,
   "metadata": {},
   "outputs": [],
   "source": [
    "img_folder = r'C:\\Users\\jdr\\OneDrive - Multiconsult\\Skrivebord\\Totsonderinger\\CPT\\images'\n",
    "pdf_file = r'C:\\Users\\jdr\\OneDrive - Multiconsult\\Skrivebord\\Totsonderinger\\CPT\\Lay_totalsonderinger A4_cpt_new1.pdf'\n",
    "\n",
    "#pdf2img(pdf_file)\n",
    "#find_bp_names_and_rename_imgs(img_folder=img_folder)\n",
    "\n",
    "# NB!!: Run the following functions AFTER controlling file names = boring name!\n",
    "#draw_drawing_num(img_folder)\n",
    "#convert_images_to_pdf(img_folder, 'RIG-TEG-TOT.pdf')\n",
    "merge_pdfs(img_folder)\n",
    "\n"
   ]
  },
  {
   "cell_type": "code",
   "execution_count": 250,
   "metadata": {},
   "outputs": [
    {
     "ename": "FileNotFoundError",
     "evalue": "[Errno 2] No such file or directory: 'C:\\\\Users\\\\jdr\\\\OneDrive - Multiconsult\\\\Skrivebord\\\\Totsonderinger\\\\images\\\\SB-X19.png'",
     "output_type": "error",
     "traceback": [
      "\u001b[1;31m---------------------------------------------------------------------------\u001b[0m",
      "\u001b[1;31mFileNotFoundError\u001b[0m                         Traceback (most recent call last)",
      "\u001b[1;32m<ipython-input-250-944af3e9a200>\u001b[0m in \u001b[0;36m<module>\u001b[1;34m\u001b[0m\n\u001b[0;32m      1\u001b[0m \u001b[0mimg_path\u001b[0m \u001b[1;33m=\u001b[0m \u001b[1;34mr'C:\\Users\\jdr\\OneDrive - Multiconsult\\Skrivebord\\Totsonderinger\\images\\SB-X19.png'\u001b[0m\u001b[1;33m\u001b[0m\u001b[1;33m\u001b[0m\u001b[0m\n\u001b[1;32m----> 2\u001b[1;33m \u001b[0mtext\u001b[0m \u001b[1;33m=\u001b[0m \u001b[0mstr\u001b[0m\u001b[1;33m(\u001b[0m\u001b[1;33m(\u001b[0m\u001b[1;33m(\u001b[0m\u001b[0mpytesseract\u001b[0m\u001b[1;33m.\u001b[0m\u001b[0mimage_to_string\u001b[0m\u001b[1;33m(\u001b[0m\u001b[0mImage\u001b[0m\u001b[1;33m.\u001b[0m\u001b[0mopen\u001b[0m\u001b[1;33m(\u001b[0m\u001b[0mimg_path\u001b[0m\u001b[1;33m)\u001b[0m\u001b[1;33m)\u001b[0m\u001b[1;33m)\u001b[0m\u001b[1;33m)\u001b[0m\u001b[1;33m)\u001b[0m\u001b[1;33m\u001b[0m\u001b[1;33m\u001b[0m\u001b[0m\n\u001b[0m\u001b[0;32m      3\u001b[0m \u001b[0mprint\u001b[0m\u001b[1;33m(\u001b[0m\u001b[0mtext\u001b[0m\u001b[1;33m)\u001b[0m\u001b[1;33m\u001b[0m\u001b[1;33m\u001b[0m\u001b[0m\n",
      "\u001b[1;32mc:\\Users\\jdr\\AppData\\Local\\ESRI\\conda\\envs\\arcgispro-py3-clone\\lib\\site-packages\\PIL\\Image.py\u001b[0m in \u001b[0;36mopen\u001b[1;34m(fp, mode, formats)\u001b[0m\n\u001b[0;32m   2966\u001b[0m \u001b[1;33m\u001b[0m\u001b[0m\n\u001b[0;32m   2967\u001b[0m     \u001b[1;32mif\u001b[0m \u001b[0mfilename\u001b[0m\u001b[1;33m:\u001b[0m\u001b[1;33m\u001b[0m\u001b[1;33m\u001b[0m\u001b[0m\n\u001b[1;32m-> 2968\u001b[1;33m         \u001b[0mfp\u001b[0m \u001b[1;33m=\u001b[0m \u001b[0mbuiltins\u001b[0m\u001b[1;33m.\u001b[0m\u001b[0mopen\u001b[0m\u001b[1;33m(\u001b[0m\u001b[0mfilename\u001b[0m\u001b[1;33m,\u001b[0m \u001b[1;34m\"rb\"\u001b[0m\u001b[1;33m)\u001b[0m\u001b[1;33m\u001b[0m\u001b[1;33m\u001b[0m\u001b[0m\n\u001b[0m\u001b[0;32m   2969\u001b[0m         \u001b[0mexclusive_fp\u001b[0m \u001b[1;33m=\u001b[0m \u001b[1;32mTrue\u001b[0m\u001b[1;33m\u001b[0m\u001b[1;33m\u001b[0m\u001b[0m\n\u001b[0;32m   2970\u001b[0m \u001b[1;33m\u001b[0m\u001b[0m\n",
      "\u001b[1;31mFileNotFoundError\u001b[0m: [Errno 2] No such file or directory: 'C:\\\\Users\\\\jdr\\\\OneDrive - Multiconsult\\\\Skrivebord\\\\Totsonderinger\\\\images\\\\SB-X19.png'"
     ]
    }
   ],
   "source": [
    "img_path = r'C:\\Users\\jdr\\OneDrive - Multiconsult\\Skrivebord\\Totsonderinger\\images\\SB-X19.png'\n",
    "text = str(((pytesseract.image_to_string(Image.open(img_path)))))\n",
    "print(text)"
   ]
  }
 ],
 "metadata": {
  "kernelspec": {
   "display_name": "Python 3",
   "language": "python",
   "name": "python3"
  },
  "language_info": {
   "codemirror_mode": {
    "name": "ipython",
    "version": 3
   },
   "file_extension": ".py",
   "mimetype": "text/x-python",
   "name": "python",
   "nbconvert_exporter": "python",
   "pygments_lexer": "ipython3",
   "version": "3.7.11"
  },
  "orig_nbformat": 4
 },
 "nbformat": 4,
 "nbformat_minor": 2
}
