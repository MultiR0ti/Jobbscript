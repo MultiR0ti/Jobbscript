{
 "cells": [
  {
   "cell_type": "code",
   "execution_count": 20,
   "metadata": {},
   "outputs": [
    {
     "name": "stderr",
     "output_type": "stream",
     "text": [
      "Multiple definitions in dictionary at byte 0x1ac170 for key /PageMode\n"
     ]
    }
   ],
   "source": [
    "from PyPDF2 import PdfWriter, PdfReader\n",
    "import io\n",
    "from reportlab.pdfgen import canvas\n",
    "from reportlab.lib.pagesizes import letter, A4\n",
    "\n",
    "from reportlab.pdfbase import pdfmetrics\n",
    "from reportlab.pdfbase.ttfonts import TTFont\n",
    "\n",
    "input_pdf = r'C:\\Users\\jdr\\OneDrive - Multiconsult\\Skrivebord\\Totsonderinger\\CPT\\Lay_totalsonderinger A4_cpt_new1.pdf'\n",
    "out_pdf = r'C:\\Users\\jdr\\OneDrive - Multiconsult\\Skrivebord\\Totsonderinger\\CPT\\test.pdf'\n",
    "\n",
    "pdfmetrics.registerFont(TTFont('isocpeur', 'isocpeur.ttf'))\n",
    "\n",
    "packet = io.BytesIO()\n",
    "can = canvas.Canvas(packet, pagesize=A4)\n",
    "can.setFont('isocpeur', 11)\n",
    "can.rotate(270)\n",
    "can.drawString(-150, 25, \"RIG-TEG-SB-2222-010\", direction='ltr')\n",
    "can.save()\n",
    "\n",
    "#move to the beginning of the StringIO buffer\n",
    "packet.seek(0)\n",
    "\n",
    "# create a new PDF with Reportlab\n",
    "new_pdf = PdfReader(packet)\n",
    "# read your existing PDF\n",
    "existing_pdf = PdfReader(open(input_pdf, \"rb\"))\n",
    "output = PdfWriter()\n",
    "# add the \"watermark\" (which is the new pdf) on the existing page\n",
    "page = existing_pdf.pages[0]\n",
    "page.merge_page(new_pdf.pages[0])\n",
    "output.add_page(page)\n",
    "# finally, write \"output\" to a real file\n",
    "output_stream = open(out_pdf, \"wb\")\n",
    "output.write(output_stream)\n",
    "output_stream.close()"
   ]
  }
 ],
 "metadata": {
  "kernelspec": {
   "display_name": "Python 3",
   "language": "python",
   "name": "python3"
  },
  "language_info": {
   "codemirror_mode": {
    "name": "ipython",
    "version": 3
   },
   "file_extension": ".py",
   "mimetype": "text/x-python",
   "name": "python",
   "nbconvert_exporter": "python",
   "pygments_lexer": "ipython3",
   "version": "3.7.11"
  },
  "orig_nbformat": 4
 },
 "nbformat": 4,
 "nbformat_minor": 2
}
