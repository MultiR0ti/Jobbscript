{
 "cells": [
  {
   "cell_type": "code",
   "execution_count": 18,
   "metadata": {},
   "outputs": [
    {
     "name": "stdout",
     "output_type": "stream",
     "text": [
      "1.PRV\n",
      "1.SND\n",
      "10.SND\n",
      "102.PRV\n",
      "103.SND\n",
      "105.SND\n",
      "107.PRV\n",
      "108.SND\n",
      "11.SND\n",
      "111.SND\n",
      "113.SND\n",
      "114.SND\n",
      "115.SND\n",
      "116.PRV\n",
      "116.SND\n",
      "117.SND\n",
      "118.SND\n",
      "119.SND\n",
      "12.SND\n",
      "12.TLK\n",
      "120.PRV\n",
      "120.SND\n",
      "121.SND\n",
      "13.SND\n",
      "14.SND\n",
      "15.SND\n",
      "15.TLK\n",
      "16.SND\n",
      "16.TLK\n",
      "1.TLK\n",
      "101.SND\n",
      "102.SND\n",
      "104.SND\n",
      "106.SND\n",
      "107.SND\n",
      "109.SND\n",
      "110.SND\n",
      "112.SND\n"
     ]
    }
   ],
   "source": [
    "import os\n",
    "import re\n",
    "path1 = r'\\\\nsv2-nasuni-02\\fredrikstad\\Prosjekt\\O10228\\10228154-01\\10228154-01-03 ARBEIDSOMRAADE\\10228154-01 RIG\\10228154-01-10 GEOSUITE\\Fra Geostrøm\\AUTOGRAF.DBF'\n",
    "for count, filename in enumerate(os.listdir(path1)):\n",
    "    # Finne tall for å opprettholde nummerering\n",
    "    tall = re.findall(r'\\d+', filename)\n",
    "    #print(filename, tall[0])\n",
    "    suffix = filename.split('.')[-1]\n",
    "    if tall:\n",
    "        print(filename)\n",
    "        os.rename(f\"{path1}\\{filename}\", f\"{path1}\\\\G-{tall[0]}.{suffix}\")"
   ]
  },
  {
   "cell_type": "code",
   "execution_count": 14,
   "metadata": {},
   "outputs": [
    {
     "name": "stdout",
     "output_type": "stream",
     "text": [
      "G-17.SND\n",
      "G-18.SND\n",
      "G-2.SND\n",
      "G-20.SND\n",
      "G-21.TLK\n",
      "G-22.TLK\n",
      "G-23.SND\n",
      "G-25.PRV\n",
      "G-3.SND\n",
      "G-4.TLK\n",
      "G-5.PRV\n",
      "G-5.SND\n",
      "G-5.TLK\n",
      "G-6.SND\n",
      "G-6A.SND\n",
      "G-7.SND\n",
      "G-7.TLK\n",
      "G-8.SND\n",
      "G-9.PRV\n",
      "G-9.SND\n",
      "AUTOGRAF.AVP\n",
      "L-1.PRV\n",
      "L-1.SND\n",
      "L-1.TLK\n",
      "L-10.SND\n",
      "L-101.SND\n",
      "L-102.PRV\n",
      "L-102.SND\n",
      "L-103.SND\n",
      "L-104.SND\n",
      "L-105.SND\n",
      "L-106.SND\n",
      "L-107.PRV\n",
      "L-107.SND\n",
      "L-108.SND\n",
      "L-109.SND\n",
      "L-11.SND\n",
      "L-110.SND\n",
      "L-111.SND\n",
      "L-112.SND\n",
      "L-113.SND\n",
      "L-114.SND\n",
      "L-115.SND\n",
      "L-116.PRV\n",
      "L-116.SND\n",
      "L-117.SND\n",
      "L-118.SND\n",
      "L-119.SND\n",
      "L-12.SND\n",
      "L-12.TLK\n",
      "L-120.PRV\n",
      "L-120.SND\n",
      "L-121.SND\n",
      "L-13.SND\n",
      "L-14.SND\n",
      "L-15.SND\n",
      "L-15.TLK\n",
      "L-16.SND\n",
      "L-16.TLK\n",
      "G-19.SND\n",
      "G-2.TLK\n",
      "G-21.SND\n",
      "G-22.SND\n",
      "G-23.PRV\n",
      "G-24.SND\n",
      "G-25.SND\n",
      "G-4.SND\n",
      "G-4A.SND\n"
     ]
    }
   ],
   "source": [
    "# For å angre\n",
    "path1 = r'\\\\nsv2-nasuni-02\\fredrikstad\\Prosjekt\\O10228\\10228154-01\\10228154-01-03 ARBEIDSOMRAADE\\10228154-01 RIG\\10228154-01-10 GEOSUITE\\Fra Geostrøm\\AUTOGRAF.DBF'\n",
    "for count, filename in enumerate(os.listdir(path1)):\n",
    "    #\n",
    "    print(filename)\n",
    "    os.rename(f\"{path1}\\{filename}\", f\"{path1}\\{filename.replace('L-', '')}\")"
   ]
  }
 ],
 "metadata": {
  "kernelspec": {
   "display_name": "Python 3.9.12 ('base')",
   "language": "python",
   "name": "python3"
  },
  "language_info": {
   "codemirror_mode": {
    "name": "ipython",
    "version": 3
   },
   "file_extension": ".py",
   "mimetype": "text/x-python",
   "name": "python",
   "nbconvert_exporter": "python",
   "pygments_lexer": "ipython3",
   "version": "3.7.11"
  },
  "orig_nbformat": 4,
  "vscode": {
   "interpreter": {
    "hash": "581fd5fe3485a00c41fffa1e459008d4c0536be5f140f14a0998cb2998375030"
   }
  }
 },
 "nbformat": 4,
 "nbformat_minor": 2
}
