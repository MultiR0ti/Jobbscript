{
 "cells": [
  {
   "cell_type": "code",
   "execution_count": 1,
   "metadata": {},
   "outputs": [
    {
     "name": "stdout",
     "output_type": "stream",
     "text": [
      "Hull 40.pdf 40\n",
      "Hull 41.pdf 41\n",
      "Hull 42.pdf 42\n",
      "Hull 43.pdf 43\n",
      "Hull 44.pdf 44\n",
      "Hull 45.pdf 45\n",
      "Hull 46.pdf 46\n",
      "Hull 47.pdf 47\n",
      "Hull 48.pdf 48\n",
      "Hull 52.pdf 52\n",
      "Hull 54.pdf 54\n",
      "Hull 39.pdf 39\n"
     ]
    }
   ],
   "source": [
    "import os\n",
    "import re\n",
    "path1 = r'\\\\nsv2-nasuni-02\\fredrikstad\\Prosjekt\\O10245\\10245026-01\\10245026-01-03_ARBEIDSOMRAADE\\21_fagomraade\\11_Geoteknikk\\10245026-10-GEOSUITE\\SV96_og2011_Rv. 118 St. Mariegate bru (62160)_vers2\\New pics'\n",
    "for count, filename in enumerate(os.listdir(path1)):\n",
    "    #\n",
    "    tall = re.findall(r'\\d+', filename)\n",
    "    print(filename, tall[0])\n",
    "    os.rename(f\"{path1}\\{filename}\", f\"{path1}\\SV96-{tall[0]}.pdf\")"
   ]
  }
 ],
 "metadata": {
  "kernelspec": {
   "display_name": "Python 3.9.12 ('base')",
   "language": "python",
   "name": "python3"
  },
  "language_info": {
   "codemirror_mode": {
    "name": "ipython",
    "version": 3
   },
   "file_extension": ".py",
   "mimetype": "text/x-python",
   "name": "python",
   "nbconvert_exporter": "python",
   "pygments_lexer": "ipython3",
   "version": "3.9.12"
  },
  "orig_nbformat": 4,
  "vscode": {
   "interpreter": {
    "hash": "581fd5fe3485a00c41fffa1e459008d4c0536be5f140f14a0998cb2998375030"
   }
  }
 },
 "nbformat": 4,
 "nbformat_minor": 2
}
