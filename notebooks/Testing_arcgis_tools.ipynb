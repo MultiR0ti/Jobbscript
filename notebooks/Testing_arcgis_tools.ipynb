{
 "cells": [
  {
   "cell_type": "code",
   "execution_count": 1,
   "metadata": {},
   "outputs": [],
   "source": [
    "import os"
   ]
  },
  {
   "cell_type": "code",
   "execution_count": 5,
   "metadata": {},
   "outputs": [],
   "source": [
    "pdf_folder = r'\\\\nsv2-nasuni-02\\fredrikstad\\Prosjekt\\O10245\\10245026-01\\10245026-01-03_ARBEIDSOMRAADE\\21_fagomraade\\11_Geoteknikk\\10245026-03-TEGNINGER\\GeoLab'\n",
    "lab_png = r'\\\\nsv2-nasuni-02\\fredrikstad\\Prosjekt\\O10245\\10245026-01\\10245026-01-03_ARBEIDSOMRAADE\\21_fagomraade\\11_Geoteknikk\\10245026-03-TEGNINGER\\GeoLab\\images'\n",
    "\n"
   ]
  },
  {
   "cell_type": "code",
   "execution_count": 35,
   "metadata": {},
   "outputs": [
    {
     "name": "stdout",
     "output_type": "stream",
     "text": [
      "hello\n"
     ]
    }
   ],
   "source": [
    "listpng = os.listdir(lab_png)\n",
    "listpng\n",
    "if '10245026-02-RIG-TEG-SB-2041-400.1-2_rev00 d=3,45m.png' in listpng:\n",
    "    print('hello')"
   ]
  },
  {
   "cell_type": "code",
   "execution_count": 13,
   "metadata": {},
   "outputs": [],
   "source": [
    "# Make a list of dict with file name and attachment\n",
    "def img_folder_items(png_folder) -> list:\n",
    "    '''\n",
    "    Returns a list of dictionaries that contains which boreholde have new pictures\n",
    "    '''\n",
    "    item_name_and_attachment = []\n",
    "    for item in os.listdir(png_folder):\n",
    "   \n",
    "        if item.split('.')[-1] == 'png':\n",
    "            # Find file name\n",
    "            file_name = item.split('.')[0]\n",
    "            file_dict = {\n",
    "                'file_name': file_name,\n",
    "                'attachment': png_folder+item\n",
    "                }\n",
    "            item_name_and_attachment.append(file_dict)\n",
    "    return item_name_and_attachment\n"
   ]
  },
  {
   "cell_type": "code",
   "execution_count": 28,
   "metadata": {},
   "outputs": [],
   "source": [
    "def proveserie_img_teg_200(item_name_and_attachment):\n",
    "    liste = [dict for dict in item_name_and_attachment if '200_' in dict.get('file_name')]\n",
    "    print(liste)\n",
    "    for dict in liste:\n",
    "        bp_name_and_teg_nr = dict.get('file_name').split('RIG-TEG-')[-1]\n",
    "        bp_name = 'SB-' + bp_name_and_teg_nr.split('-')[1]\n",
    "        teg_nr = bp_name_and_teg_nr.split('-')[2].split('_')[0]\n",
    "        # Update name of prøveserie\n",
    "        dict['file_name'] = bp_name\n",
    "        \n",
    "    return liste"
   ]
  },
  {
   "cell_type": "code",
   "execution_count": 29,
   "metadata": {},
   "outputs": [
    {
     "name": "stdout",
     "output_type": "stream",
     "text": [
      "[{'file_name': '10245026-02-RIG-TEG-SB-2033-200_rev00', 'attachment': '\\\\\\\\nsv2-nasuni-02\\\\fredrikstad\\\\Prosjekt\\\\O10245\\\\10245026-01\\\\10245026-01-03_ARBEIDSOMRAADE\\\\21_fagomraade\\\\11_Geoteknikk\\\\10245026-03-TEGNINGER\\\\GeoLab\\\\images10245026-02-RIG-TEG-SB-2033-200_rev00.png'}, {'file_name': '10245026-02-RIG-TEG-SB-2041-200_rev00', 'attachment': '\\\\\\\\nsv2-nasuni-02\\\\fredrikstad\\\\Prosjekt\\\\O10245\\\\10245026-01\\\\10245026-01-03_ARBEIDSOMRAADE\\\\21_fagomraade\\\\11_Geoteknikk\\\\10245026-03-TEGNINGER\\\\GeoLab\\\\images10245026-02-RIG-TEG-SB-2041-200_rev00.png'}, {'file_name': '10245026-02-RIG-TEG-SB-2014-200_rev00', 'attachment': '\\\\\\\\nsv2-nasuni-02\\\\fredrikstad\\\\Prosjekt\\\\O10245\\\\10245026-01\\\\10245026-01-03_ARBEIDSOMRAADE\\\\21_fagomraade\\\\11_Geoteknikk\\\\10245026-03-TEGNINGER\\\\GeoLab\\\\images10245026-02-RIG-TEG-SB-2014-200_rev00.png'}, {'file_name': '10245026-02-RIG-TEG-SB-2007-200_rev00', 'attachment': '\\\\\\\\nsv2-nasuni-02\\\\fredrikstad\\\\Prosjekt\\\\O10245\\\\10245026-01\\\\10245026-01-03_ARBEIDSOMRAADE\\\\21_fagomraade\\\\11_Geoteknikk\\\\10245026-03-TEGNINGER\\\\GeoLab\\\\images10245026-02-RIG-TEG-SB-2007-200_rev00.png'}, {'file_name': '10245026-02-RIG-TEG-SB-2008-200_rev00', 'attachment': '\\\\\\\\nsv2-nasuni-02\\\\fredrikstad\\\\Prosjekt\\\\O10245\\\\10245026-01\\\\10245026-01-03_ARBEIDSOMRAADE\\\\21_fagomraade\\\\11_Geoteknikk\\\\10245026-03-TEGNINGER\\\\GeoLab\\\\images10245026-02-RIG-TEG-SB-2008-200_rev00.png'}, {'file_name': '10245026-02-RIG-TEG-SB-2015-200_rev00', 'attachment': '\\\\\\\\nsv2-nasuni-02\\\\fredrikstad\\\\Prosjekt\\\\O10245\\\\10245026-01\\\\10245026-01-03_ARBEIDSOMRAADE\\\\21_fagomraade\\\\11_Geoteknikk\\\\10245026-03-TEGNINGER\\\\GeoLab\\\\images10245026-02-RIG-TEG-SB-2015-200_rev00.png'}, {'file_name': '10245026-02-RIG-TEG-SB-2040-200_rev00', 'attachment': '\\\\\\\\nsv2-nasuni-02\\\\fredrikstad\\\\Prosjekt\\\\O10245\\\\10245026-01\\\\10245026-01-03_ARBEIDSOMRAADE\\\\21_fagomraade\\\\11_Geoteknikk\\\\10245026-03-TEGNINGER\\\\GeoLab\\\\images10245026-02-RIG-TEG-SB-2040-200_rev00.png'}, {'file_name': '10245026-02-RIG-TEG-SB-2028-200_rev00', 'attachment': '\\\\\\\\nsv2-nasuni-02\\\\fredrikstad\\\\Prosjekt\\\\O10245\\\\10245026-01\\\\10245026-01-03_ARBEIDSOMRAADE\\\\21_fagomraade\\\\11_Geoteknikk\\\\10245026-03-TEGNINGER\\\\GeoLab\\\\images10245026-02-RIG-TEG-SB-2028-200_rev00.png'}]\n"
     ]
    },
    {
     "data": {
      "text/plain": [
       "[{'file_name': 'SB-2033',\n",
       "  'attachment': '\\\\\\\\nsv2-nasuni-02\\\\fredrikstad\\\\Prosjekt\\\\O10245\\\\10245026-01\\\\10245026-01-03_ARBEIDSOMRAADE\\\\21_fagomraade\\\\11_Geoteknikk\\\\10245026-03-TEGNINGER\\\\GeoLab\\\\images10245026-02-RIG-TEG-SB-2033-200_rev00.png'},\n",
       " {'file_name': 'SB-2041',\n",
       "  'attachment': '\\\\\\\\nsv2-nasuni-02\\\\fredrikstad\\\\Prosjekt\\\\O10245\\\\10245026-01\\\\10245026-01-03_ARBEIDSOMRAADE\\\\21_fagomraade\\\\11_Geoteknikk\\\\10245026-03-TEGNINGER\\\\GeoLab\\\\images10245026-02-RIG-TEG-SB-2041-200_rev00.png'},\n",
       " {'file_name': 'SB-2014',\n",
       "  'attachment': '\\\\\\\\nsv2-nasuni-02\\\\fredrikstad\\\\Prosjekt\\\\O10245\\\\10245026-01\\\\10245026-01-03_ARBEIDSOMRAADE\\\\21_fagomraade\\\\11_Geoteknikk\\\\10245026-03-TEGNINGER\\\\GeoLab\\\\images10245026-02-RIG-TEG-SB-2014-200_rev00.png'},\n",
       " {'file_name': 'SB-2007',\n",
       "  'attachment': '\\\\\\\\nsv2-nasuni-02\\\\fredrikstad\\\\Prosjekt\\\\O10245\\\\10245026-01\\\\10245026-01-03_ARBEIDSOMRAADE\\\\21_fagomraade\\\\11_Geoteknikk\\\\10245026-03-TEGNINGER\\\\GeoLab\\\\images10245026-02-RIG-TEG-SB-2007-200_rev00.png'},\n",
       " {'file_name': 'SB-2008',\n",
       "  'attachment': '\\\\\\\\nsv2-nasuni-02\\\\fredrikstad\\\\Prosjekt\\\\O10245\\\\10245026-01\\\\10245026-01-03_ARBEIDSOMRAADE\\\\21_fagomraade\\\\11_Geoteknikk\\\\10245026-03-TEGNINGER\\\\GeoLab\\\\images10245026-02-RIG-TEG-SB-2008-200_rev00.png'},\n",
       " {'file_name': 'SB-2015',\n",
       "  'attachment': '\\\\\\\\nsv2-nasuni-02\\\\fredrikstad\\\\Prosjekt\\\\O10245\\\\10245026-01\\\\10245026-01-03_ARBEIDSOMRAADE\\\\21_fagomraade\\\\11_Geoteknikk\\\\10245026-03-TEGNINGER\\\\GeoLab\\\\images10245026-02-RIG-TEG-SB-2015-200_rev00.png'},\n",
       " {'file_name': 'SB-2040',\n",
       "  'attachment': '\\\\\\\\nsv2-nasuni-02\\\\fredrikstad\\\\Prosjekt\\\\O10245\\\\10245026-01\\\\10245026-01-03_ARBEIDSOMRAADE\\\\21_fagomraade\\\\11_Geoteknikk\\\\10245026-03-TEGNINGER\\\\GeoLab\\\\images10245026-02-RIG-TEG-SB-2040-200_rev00.png'},\n",
       " {'file_name': 'SB-2028',\n",
       "  'attachment': '\\\\\\\\nsv2-nasuni-02\\\\fredrikstad\\\\Prosjekt\\\\O10245\\\\10245026-01\\\\10245026-01-03_ARBEIDSOMRAADE\\\\21_fagomraade\\\\11_Geoteknikk\\\\10245026-03-TEGNINGER\\\\GeoLab\\\\images10245026-02-RIG-TEG-SB-2028-200_rev00.png'}]"
      ]
     },
     "execution_count": 29,
     "metadata": {},
     "output_type": "execute_result"
    }
   ],
   "source": [
    "lab_name_and_attachment = img_folder_items(lab_png)\n",
    "teg_200 = proveserie_img_teg_200(lab_name_and_attachment)\n",
    "teg_200"
   ]
  }
 ],
 "metadata": {
  "kernelspec": {
   "display_name": "Python 3",
   "language": "python",
   "name": "python3"
  },
  "language_info": {
   "codemirror_mode": {
    "name": "ipython",
    "version": 3
   },
   "file_extension": ".py",
   "mimetype": "text/x-python",
   "name": "python",
   "nbconvert_exporter": "python",
   "pygments_lexer": "ipython3",
   "version": "3.7.11"
  },
  "orig_nbformat": 4
 },
 "nbformat": 4,
 "nbformat_minor": 2
}
