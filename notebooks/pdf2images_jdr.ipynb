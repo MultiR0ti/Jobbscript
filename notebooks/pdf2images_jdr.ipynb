{
 "cells": [
  {
   "cell_type": "code",
   "execution_count": 6,
   "metadata": {},
   "outputs": [],
   "source": [
    "#pip uninstalpip install opencv-contrib-python"
   ]
  },
  {
   "cell_type": "code",
   "execution_count": 2,
   "metadata": {},
   "outputs": [],
   "source": [
    "import os\n",
    "import fitz  #pymupdf\n",
    "from pathlib import Path\n",
    "import cv2\n",
    "import numpy as np"
   ]
  },
  {
   "cell_type": "code",
   "execution_count": 3,
   "metadata": {},
   "outputs": [],
   "source": [
    "def clip_image(i, name):\n",
    "    \n",
    "    img = cv2.imread(i) # Read in the image and convert to grayscale\n",
    "    gray = cv2.cvtColor(img, cv2.COLOR_BGR2GRAY)\n",
    "    gray = 255*(gray < 128).astype(np.uint8) # To invert the text to white\n",
    "    coords = cv2.findNonZero(gray) # Find all non-zero points (text)\n",
    "    x, y, w, h = cv2.boundingRect(coords) # Find minimum spanning bounding box\n",
    "    rect = img[y:y+h, x:x+w] # Crop the image - note we do this on the original image\n",
    "    print(f'Cropping image {name} x:{x}, y:{y}, w:{w}, h:{h}')\n",
    "    cv2.imwrite(i, rect) # Save the image\n"
   ]
  },
  {
   "cell_type": "code",
   "execution_count": 4,
   "metadata": {},
   "outputs": [],
   "source": [
    "def pdf2img(p):\n",
    "    \"\"\"\n",
    "    p: path of pdf directory\n",
    "    \n",
    "    requires 'clip_image' function\n",
    "    \n",
    "    \"\"\"\n",
    "    p_out = p + r'\\images'\n",
    "    Path(p_out).mkdir(parents=True, exist_ok=True)  # create the 'images' folder if it doesn't exist\n",
    "    path = Path(p)\n",
    "    l_pdfs = [f for f in path.glob('*.pdf')]\n",
    "    for pdf in l_pdfs:\n",
    "        print(f'Opening: {pdf}')\n",
    "        doc = fitz.open(pdf)\n",
    "        page = doc.load_page(0)\n",
    "        #print(pdf.stem, page.MediaBox)\n",
    "        #print(page.MediaBox[3])\n",
    "        zoom = 2\n",
    "        zz = fitz.Matrix(zoom, zoom)\n",
    "        pix = page.get_pixmap(matrix = zz)\n",
    "        f_out = os.path.join(p_out, pdf.stem + '.png')\n",
    "        #print(f'Extracting: {f_out}')\n",
    "        pix.save(f_out)\n",
    "        \n",
    "        #print(f' image {pdf.stem} x:{x}, y:{y}, w:{w}, h:{h}')\n",
    "        print(f' rect {page.rect}')\n",
    "        print(f' CB {page.cropbox}')\n",
    "        #print(f' rect {page.MediaBox}')\n",
    "        \n",
    "        try:\n",
    "            clip_image(f_out, pdf.stem)\n",
    "        except:\n",
    "            print(f'failed clip on {f_out}')\n"
   ]
  },
  {
   "cell_type": "code",
   "execution_count": 5,
   "metadata": {
    "scrolled": true
   },
   "outputs": [
    {
     "name": "stdout",
     "output_type": "stream",
     "text": [
      "Opening: \\\\nsv2-nasuni-02\\fredrikstad\\Prosjekt\\O10245\\10245026-01\\10245026-01-03_ARBEIDSOMRAADE\\21_fagomraade\\11_Geoteknikk\\10245026-10-GEOSUITE\\Supplerende GRUS 2023\\AUTOGRAF.RIT\\SB-2007.pdf\n",
      " rect Rect(0.0, 0.0, 595.5, 841.5)\n",
      " CB Rect(0.0, 0.0, 595.5, 841.5)\n",
      "Cropping image SB-2007 x:243, y:231, w:694, h:1220\n",
      "Opening: \\\\nsv2-nasuni-02\\fredrikstad\\Prosjekt\\O10245\\10245026-01\\10245026-01-03_ARBEIDSOMRAADE\\21_fagomraade\\11_Geoteknikk\\10245026-10-GEOSUITE\\Supplerende GRUS 2023\\AUTOGRAF.RIT\\SB-2011.pdf\n",
      " rect Rect(0.0, 0.0, 595.5, 841.5)\n",
      " CB Rect(0.0, 0.0, 595.5, 841.5)\n",
      "Cropping image SB-2011 x:243, y:366, w:694, h:950\n",
      "Opening: \\\\nsv2-nasuni-02\\fredrikstad\\Prosjekt\\O10245\\10245026-01\\10245026-01-03_ARBEIDSOMRAADE\\21_fagomraade\\11_Geoteknikk\\10245026-10-GEOSUITE\\Supplerende GRUS 2023\\AUTOGRAF.RIT\\SB-2015.pdf\n",
      " rect Rect(0.0, 0.0, 595.5, 841.5)\n",
      " CB Rect(0.0, 0.0, 595.5, 841.5)\n",
      "Cropping image SB-2015 x:243, y:366, w:693, h:950\n",
      "Opening: \\\\nsv2-nasuni-02\\fredrikstad\\Prosjekt\\O10245\\10245026-01\\10245026-01-03_ARBEIDSOMRAADE\\21_fagomraade\\11_Geoteknikk\\10245026-10-GEOSUITE\\Supplerende GRUS 2023\\AUTOGRAF.RIT\\SB-2021.pdf\n",
      " rect Rect(0.0, 0.0, 595.5, 841.5)\n",
      " CB Rect(0.0, 0.0, 595.5, 841.5)\n",
      "Cropping image SB-2021 x:243, y:436, w:694, h:808\n",
      "Opening: \\\\nsv2-nasuni-02\\fredrikstad\\Prosjekt\\O10245\\10245026-01\\10245026-01-03_ARBEIDSOMRAADE\\21_fagomraade\\11_Geoteknikk\\10245026-10-GEOSUITE\\Supplerende GRUS 2023\\AUTOGRAF.RIT\\SB-2006.pdf\n",
      " rect Rect(0.0, 0.0, 595.5, 841.5)\n",
      " CB Rect(0.0, 0.0, 595.5, 841.5)\n",
      "Cropping image SB-2006 x:195, y:366, w:800, h:950\n",
      "Opening: \\\\nsv2-nasuni-02\\fredrikstad\\Prosjekt\\O10245\\10245026-01\\10245026-01-03_ARBEIDSOMRAADE\\21_fagomraade\\11_Geoteknikk\\10245026-10-GEOSUITE\\Supplerende GRUS 2023\\AUTOGRAF.RIT\\SB-2002.pdf\n",
      " rect Rect(0.0, 0.0, 595.5, 841.5)\n",
      " CB Rect(0.0, 0.0, 595.5, 841.5)\n",
      "Cropping image SB-2002 x:195, y:225, w:800, h:1233\n",
      "Opening: \\\\nsv2-nasuni-02\\fredrikstad\\Prosjekt\\O10245\\10245026-01\\10245026-01-03_ARBEIDSOMRAADE\\21_fagomraade\\11_Geoteknikk\\10245026-10-GEOSUITE\\Supplerende GRUS 2023\\AUTOGRAF.RIT\\SB-2013.pdf\n",
      " rect Rect(0.0, 0.0, 595.5, 841.5)\n",
      " CB Rect(0.0, 0.0, 595.5, 841.5)\n",
      "Cropping image SB-2013 x:243, y:366, w:694, h:950\n"
     ]
    }
   ],
   "source": [
    "#for example:   \n",
    "\n",
    "#p_in = r'C:\\bin\\data\\GeoTools\\PDF2PNG\\PDF\\220920'  # path to pdf directory\n",
    "pth = r'\\\\nsv2-nasuni-02\\fredrikstad\\Prosjekt\\O10245\\10245026-01\\10245026-01-03_ARBEIDSOMRAADE\\21_fagomraade\\11_Geoteknikk\\10245026-10-GEOSUITE\\Supplerende GRUS 2023\\AUTOGRAF.RIT'\n",
    "pdf2img(pth)"
   ]
  }
 ],
 "metadata": {
  "kernelspec": {
   "display_name": "venv",
   "language": "python",
   "name": "python3"
  },
  "language_info": {
   "codemirror_mode": {
    "name": "ipython",
    "version": 3
   },
   "file_extension": ".py",
   "mimetype": "text/x-python",
   "name": "python",
   "nbconvert_exporter": "python",
   "pygments_lexer": "ipython3",
   "version": "3.10.8"
  },
  "vscode": {
   "interpreter": {
    "hash": "5a48ecbc942dea114f13cdaf35220f8ad744af9dd6e3a52bbad52b0986941c4f"
   }
  }
 },
 "nbformat": 4,
 "nbformat_minor": 4
}
