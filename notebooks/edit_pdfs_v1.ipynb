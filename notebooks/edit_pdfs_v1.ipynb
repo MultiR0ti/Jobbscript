{
 "cells": [
  {
   "cell_type": "code",
   "execution_count": 2,
   "metadata": {},
   "outputs": [],
   "source": [
    "from pathlib import Path\n",
    "import os\n",
    "import io\n",
    "import cv2\n",
    "import fitz\n",
    "from PIL import Image, ImageDraw, ImageFont\n",
    "from PyPDF2 import PdfMerger, PdfWriter, PdfReader\n",
    "from reportlab.pdfgen import canvas\n",
    "from reportlab.lib.pagesizes import letter, A4\n",
    "from reportlab.pdfbase import pdfmetrics\n",
    "from reportlab.pdfbase.ttfonts import TTFont\n",
    "import pytesseract\n",
    "pytesseract.pytesseract.tesseract_cmd = (\n",
    "        r\"C:\\Users\\jdr\\AppData\\Local\\Programs\\Tesseract-OCR\\tesseract.exe\"\n",
    "    )"
   ]
  },
  {
   "cell_type": "code",
   "execution_count": 3,
   "metadata": {},
   "outputs": [],
   "source": [
    "def write_drawing_num(pdfs_path):\n",
    "\n",
    "    path = Path(pdfs_path)\n",
    "    list_pdfs = [f for f in path.glob('*.pdf')]\n",
    "    list_pdfs.sort()\n",
    "\n",
    "    for index, pdf in enumerate(list_pdfs):\n",
    "        pdf_path = os.path.join(pdfs_path, pdf.stem + '.pdf')\n",
    "        pdfmetrics.registerFont(TTFont('isocpeur', 'isocpeur.ttf'))\n",
    "        packet = io.BytesIO()\n",
    "        can = canvas.Canvas(packet, pagesize=A4)\n",
    "        can.setFont('isocpeur', 11)\n",
    "        can.rotate(270)\n",
    "        pdf_path = os.path.join(pdfs_path, pdf.stem + '.pdf')\n",
    "        pdf_name = pdf_path.split(\"\\\\\")[-1]\n",
    "        drawing_number = '010'\n",
    "        text = \"RIG-TEG-\"+ pdf_name.replace('.pdf', '') + '-' + drawing_number\n",
    "        can.drawString(-150, 25, text, direction='ltr')\n",
    "        can.save()\n",
    "\n",
    "        #move to the beginning of the StringIO buffer\n",
    "        packet.seek(0)\n",
    "\n",
    "        # create a new PDF with Reportlab\n",
    "        new_pdf = PdfReader(packet)\n",
    "        # read your existing PDF\n",
    "        existing_pdf = PdfReader(open(pdf, \"rb\"))\n",
    "        output = PdfWriter()\n",
    "        # add the \"watermark\" (which is the new pdf) on the existing page\n",
    "        page = existing_pdf.pages[0]\n",
    "        page.merge_page(new_pdf.pages[0])\n",
    "        output.add_page(page)\n",
    "        # finally, write \"output\" to a real file\n",
    "        output_stream = open(pdf_path, \"wb\")\n",
    "        output.write(output_stream)\n",
    "        output_stream.close()"
   ]
  },
  {
   "cell_type": "code",
   "execution_count": 4,
   "metadata": {},
   "outputs": [],
   "source": [
    "def find_bp_names_and_rename_imgs_and_pdfs(img_folder: str):\n",
    "    '''Uses OCR to find the name of the boring to rename the image with that name.\n",
    "    With the font used in AutoCAD 7 is interpreted as / so logic is made to correct the name.\n",
    "    Made for borings named like: SB-1000.\n",
    "    If a boring is split in two pages, the second page will be named \"SB-X\" plus the index of the file. \n",
    "    '''\n",
    "    path = Path(img_folder)\n",
    "    list_pngs = [f for f in path.glob('*.png')]\n",
    "    bp_names = []\n",
    "\n",
    "    for i, picture in enumerate(list_pngs):\n",
    "        img_path = os.path.join(img_folder, picture.stem + '.png')\n",
    "        pdf_path = os.path.join(img_folder, picture.stem + '.pdf')\n",
    "        text = str(((pytesseract.image_to_string(Image.open(img_path)))))\n",
    "        text.strip()\n",
    "        bp_name = text.partition('\\n')[0].replace(' ', '')\n",
    "        fix_bp_name = bp_name.replace('/', '7')\n",
    "        print(fix_bp_name)\n",
    "        if 'SB' in fix_bp_name:\n",
    "            file_name = fix_bp_name[:-1] if len(fix_bp_name) > 7 else fix_bp_name\n",
    "            print('Justert til: ', file_name)\n",
    "        else:\n",
    "            file_name = 'SB-X' + str(i)\n",
    "        bp_pic_path = img_folder + '\\\\' + file_name + '.png'\n",
    "        bp_pdf_path = img_folder + '\\\\' + file_name + '.pdf'\n",
    "        os.rename(img_path, bp_pic_path)\n",
    "        os.rename(pdf_path, bp_pdf_path)"
   ]
  },
  {
   "cell_type": "code",
   "execution_count": 5,
   "metadata": {},
   "outputs": [],
   "source": [
    "def pdf2img(pdf_path: str):\n",
    "    \"\"\"\n",
    "    pdf_path: path of a pdf file.\n",
    "    \n",
    "    Creates images from pages of a pdf file.\n",
    "    \"\"\"\n",
    "    #img_path = pdf_path + r'\\images'\n",
    "    #Path(img_path).mkdir(parents=True, exist_ok=True)  # create the 'images' folder if it doesn't exist\n",
    "    img_path = os.path.dirname(pdf_path) + r'\\images\\\\'\n",
    "    Path(img_path).mkdir(parents=True, exist_ok=True) \n",
    "    doc = fitz.open(pdf_path)\n",
    "    for index, page in enumerate(doc.pages()):\n",
    "        zoom = 3\n",
    "        zz = fitz.Matrix(zoom, zoom)\n",
    "        pix = page.get_pixmap(matrix=zz)\n",
    "        pix.save(img_path + str(index) + r'.png')"
   ]
  },
  {
   "cell_type": "code",
   "execution_count": 6,
   "metadata": {},
   "outputs": [],
   "source": [
    "def pdf_splitter(path):\n",
    "    fname = os.path.splitext(os.path.basename(path))[0]\n",
    "    new_path = '\\\\'.join(path.split('\\\\')[:-1]) + '\\\\images'\n",
    "    pdf = PdfReader(path)\n",
    "    for page in range(len(pdf.pages)):\n",
    "        pdf_writer = PdfWriter()\n",
    "        pdf_writer.add_page(pdf.pages[page])\n",
    "        output_filename = '{}\\\\{}.pdf'.format(new_path, page)\n",
    "        with open(output_filename, 'wb') as out:\n",
    "            pdf_writer.write(out)"
   ]
  },
  {
   "cell_type": "code",
   "execution_count": 7,
   "metadata": {},
   "outputs": [],
   "source": [
    "# Open the image file\n",
    "def convert_images_to_pdf(img_folder: str, pdf_filename: str):\n",
    "    \"\"\"Converts pngs to pdf files.\n",
    "    Input: image folder, and name of the resulting pdf.¨\n",
    "    PDF will be named SB-XXXX_pdf_filname.pdf\n",
    "    \"\"\"\n",
    "    path = Path(img_folder)\n",
    "    list_pngs = [f for f in path.glob('*.png')]\n",
    "\n",
    "    for picture in list_pngs:\n",
    "        img_path = os.path.join(img_folder, picture.stem + '.png')\n",
    "        image = Image.open(img_path)\n",
    "        # Save the image as a PDF file\n",
    "        image.save(img_folder + '\\\\' + picture.stem + '_' + pdf_filename, \"PDF\")\n"
   ]
  },
  {
   "cell_type": "code",
   "execution_count": 8,
   "metadata": {},
   "outputs": [],
   "source": [
    "def merge_pdfs(pdf_folder: str):\n",
    "    \"\"\"Merges all pdfs in a folder.\n",
    "    Input: directory of pdf files to merge.\n",
    "    Resulting pdf is named Samlet.pdf\n",
    "    \"\"\" \n",
    "    path = Path(pdf_folder)\n",
    "    list_pdfs = [f for f in path.glob('*.pdf')]\n",
    "    \n",
    "    merger = PdfMerger()\n",
    "    \n",
    "    for pdf in list_pdfs:\n",
    "        merger.append(open(pdf, 'rb'))\n",
    "    \n",
    "    with open(pdf_folder + \"\\\\Samlet.pdf\", \"wb\") as fout:\n",
    "        merger.write(fout)"
   ]
  },
  {
   "cell_type": "code",
   "execution_count": 24,
   "metadata": {},
   "outputs": [],
   "source": [
    "img_folder = r'C:\\Users\\jdr\\OneDrive - Multiconsult\\Skrivebord\\Totsonderinger\\CPT\\images'\n",
    "pdf_file = r'C:\\Users\\jdr\\OneDrive - Multiconsult\\Skrivebord\\Totsonderinger\\CPT\\Lay_totalsonderinger A4_medcpt_etter_KS.pdf'\n",
    "samlet = r'C:\\Users\\jdr\\OneDrive - Multiconsult\\Skrivebord\\Totsonderinger\\Samlet'\n",
    "\n",
    "#pdf2img(pdf_file)\n",
    "#pdf_splitter(pdf_file)\n",
    "#find_bp_names_and_rename_imgs_and_pdfs(img_folder=img_folder)\n",
    "\n",
    "# NB!!: Run the following functions AFTER controlling the PDF file names = boring name!\n",
    "#write_drawing_num(pdfs_path=img_folder)\n",
    "merge_pdfs(samlet)\n",
    "\n"
   ]
  },
  {
   "cell_type": "code",
   "execution_count": 10,
   "metadata": {},
   "outputs": [],
   "source": [
    "def rename_pdf(img_folder: str):\n",
    "    \"\"\"Only for long borings\"\"\"\n",
    "    path = Path(img_folder)\n",
    "    list_pdfs = [f for f in path.glob('*.pdf')]\n",
    "\n",
    "    for i, pdf in enumerate(list_pdfs):\n",
    "        pdf_path = os.path.join(img_folder, pdf.stem + '.pdf')\n",
    "        bp_pdf_path = img_folder + '\\\\' + pdf.stem + 'I.pdf'\n",
    "        os.rename(pdf_path, bp_pdf_path)"
   ]
  },
  {
   "cell_type": "code",
   "execution_count": 11,
   "metadata": {},
   "outputs": [],
   "source": [
    "img_folder = r'C:\\Users\\jdr\\OneDrive - Multiconsult\\Skrivebord\\Totsonderinger\\Lange\\images'\n",
    "#rename_pdf(img_folder)"
   ]
  }
 ],
 "metadata": {
  "kernelspec": {
   "display_name": "Python 3",
   "language": "python",
   "name": "python3"
  },
  "language_info": {
   "codemirror_mode": {
    "name": "ipython",
    "version": 3
   },
   "file_extension": ".py",
   "mimetype": "text/x-python",
   "name": "python",
   "nbconvert_exporter": "python",
   "pygments_lexer": "ipython3",
   "version": "3.7.11"
  },
  "orig_nbformat": 4
 },
 "nbformat": 4,
 "nbformat_minor": 2
}
